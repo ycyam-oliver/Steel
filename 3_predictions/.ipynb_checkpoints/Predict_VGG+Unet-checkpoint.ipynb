{
 "cells": [
  {
   "cell_type": "code",
   "execution_count": 1,
   "id": "1c370ecd",
   "metadata": {},
   "outputs": [
    {
     "name": "stdout",
     "output_type": "stream",
     "text": [
      "Found 7540 validated image filenames.\n",
      "Found 2514 validated image filenames.\n",
      "Found 2514 validated image filenames.\n",
      "Found 5506 validated image filenames.\n"
     ]
    }
   ],
   "source": [
    "import numpy as np\n",
    "import pandas as pd\n",
    "import gc\n",
    "from tqdm import tqdm\n",
    "\n",
    "from tensorflow import keras\n",
    "\n",
    "from tensorflow.keras.models import load_model\n",
    "from tensorflow.keras.preprocessing.image import ImageDataGenerator\n",
    "\n",
    "import sys\n",
    "sys.path.append('..')\n",
    "from data import test_df, submit_test_gen, BATCH_SIZE, MASK_BATCH_SIZE\n",
    "from data import Mask_DataGenerator\n",
    "from data import rle2mask, mask2rle, build_rles"
   ]
  },
  {
   "cell_type": "markdown",
   "id": "2a4894c1",
   "metadata": {},
   "source": [
    "# I. Load Test Data"
   ]
  },
  {
   "cell_type": "code",
   "execution_count": 2,
   "id": "8fa780a7",
   "metadata": {},
   "outputs": [
    {
     "data": {
      "text/html": [
       "<div>\n",
       "<style scoped>\n",
       "    .dataframe tbody tr th:only-of-type {\n",
       "        vertical-align: middle;\n",
       "    }\n",
       "\n",
       "    .dataframe tbody tr th {\n",
       "        vertical-align: top;\n",
       "    }\n",
       "\n",
       "    .dataframe thead th {\n",
       "        text-align: right;\n",
       "    }\n",
       "</style>\n",
       "<table border=\"1\" class=\"dataframe\">\n",
       "  <thead>\n",
       "    <tr style=\"text-align: right;\">\n",
       "      <th></th>\n",
       "      <th>ImageId</th>\n",
       "      <th>EncodedPixels</th>\n",
       "      <th>ClassId</th>\n",
       "    </tr>\n",
       "  </thead>\n",
       "  <tbody>\n",
       "    <tr>\n",
       "      <th>0</th>\n",
       "      <td>0000f269f.jpg</td>\n",
       "      <td>1 409600</td>\n",
       "      <td>0</td>\n",
       "    </tr>\n",
       "    <tr>\n",
       "      <th>1</th>\n",
       "      <td>000ccc2ac.jpg</td>\n",
       "      <td>1 409600</td>\n",
       "      <td>0</td>\n",
       "    </tr>\n",
       "    <tr>\n",
       "      <th>2</th>\n",
       "      <td>002451917.jpg</td>\n",
       "      <td>1 409600</td>\n",
       "      <td>0</td>\n",
       "    </tr>\n",
       "    <tr>\n",
       "      <th>3</th>\n",
       "      <td>003c5da97.jpg</td>\n",
       "      <td>1 409600</td>\n",
       "      <td>0</td>\n",
       "    </tr>\n",
       "    <tr>\n",
       "      <th>4</th>\n",
       "      <td>0042e163f.jpg</td>\n",
       "      <td>1 409600</td>\n",
       "      <td>0</td>\n",
       "    </tr>\n",
       "  </tbody>\n",
       "</table>\n",
       "</div>"
      ],
      "text/plain": [
       "         ImageId EncodedPixels  ClassId\n",
       "0  0000f269f.jpg      1 409600        0\n",
       "1  000ccc2ac.jpg      1 409600        0\n",
       "2  002451917.jpg      1 409600        0\n",
       "3  003c5da97.jpg      1 409600        0\n",
       "4  0042e163f.jpg      1 409600        0"
      ]
     },
     "execution_count": 2,
     "metadata": {},
     "output_type": "execute_result"
    }
   ],
   "source": [
    "test_df=pd.read_csv('../data/sample_submission.csv')\n",
    "test_df.head()"
   ]
  },
  {
   "cell_type": "code",
   "execution_count": 3,
   "id": "e5860d9c",
   "metadata": {},
   "outputs": [],
   "source": [
    "# keep only the ImageId and we will\n",
    "# predict if there is defects and \n",
    "# which kind(s) of defects it is\n",
    "\n",
    "test_df=test_df[['ImageId']]"
   ]
  },
  {
   "cell_type": "code",
   "execution_count": 4,
   "id": "408a4949",
   "metadata": {},
   "outputs": [
    {
     "data": {
      "text/html": [
       "<div>\n",
       "<style scoped>\n",
       "    .dataframe tbody tr th:only-of-type {\n",
       "        vertical-align: middle;\n",
       "    }\n",
       "\n",
       "    .dataframe tbody tr th {\n",
       "        vertical-align: top;\n",
       "    }\n",
       "\n",
       "    .dataframe thead th {\n",
       "        text-align: right;\n",
       "    }\n",
       "</style>\n",
       "<table border=\"1\" class=\"dataframe\">\n",
       "  <thead>\n",
       "    <tr style=\"text-align: right;\">\n",
       "      <th></th>\n",
       "      <th>ImageId</th>\n",
       "    </tr>\n",
       "  </thead>\n",
       "  <tbody>\n",
       "    <tr>\n",
       "      <th>0</th>\n",
       "      <td>0000f269f.jpg</td>\n",
       "    </tr>\n",
       "    <tr>\n",
       "      <th>1</th>\n",
       "      <td>000ccc2ac.jpg</td>\n",
       "    </tr>\n",
       "    <tr>\n",
       "      <th>2</th>\n",
       "      <td>002451917.jpg</td>\n",
       "    </tr>\n",
       "    <tr>\n",
       "      <th>3</th>\n",
       "      <td>003c5da97.jpg</td>\n",
       "    </tr>\n",
       "    <tr>\n",
       "      <th>4</th>\n",
       "      <td>0042e163f.jpg</td>\n",
       "    </tr>\n",
       "  </tbody>\n",
       "</table>\n",
       "</div>"
      ],
      "text/plain": [
       "         ImageId\n",
       "0  0000f269f.jpg\n",
       "1  000ccc2ac.jpg\n",
       "2  002451917.jpg\n",
       "3  003c5da97.jpg\n",
       "4  0042e163f.jpg"
      ]
     },
     "execution_count": 4,
     "metadata": {},
     "output_type": "execute_result"
    }
   ],
   "source": [
    "test_df.head()"
   ]
  },
  {
   "cell_type": "markdown",
   "id": "075224fa",
   "metadata": {},
   "source": [
    "# II. Predict if there is defect (Binary predictions)\n",
    "\n",
    "(using the VGG Network)"
   ]
  },
  {
   "cell_type": "code",
   "execution_count": 5,
   "id": "a9b96f40",
   "metadata": {},
   "outputs": [
    {
     "name": "stdout",
     "output_type": "stream",
     "text": [
      "predicting...\n",
      "173/173 [==============================] - 33s 149ms/step\n"
     ]
    },
    {
     "data": {
      "text/plain": [
       "1    3879\n",
       "0    1627\n",
       "Name: defect_label, dtype: int64"
      ]
     },
     "execution_count": 5,
     "metadata": {},
     "output_type": "execute_result"
    }
   ],
   "source": [
    "# load the DenseNet model for predicting if it has defect or not\n",
    "densenet_model=load_model('../1b_VGG_Kaiming/VGG2classes.h5')\n",
    "compute_steps_per_epoch=lambda x: int(np.ceil(x/BATCH_SIZE))\n",
    "\n",
    "step_size_test=compute_steps_per_epoch(test_df.shape[0])\n",
    "print('predicting...')\n",
    "submit_test=densenet_model.predict(\n",
    "    submit_test_gen,\n",
    "    steps=step_size_test,\n",
    "    verbose=1)\n",
    "\n",
    "test_df['defect_label']=(submit_test>0.5).astype('int32')\n",
    "test_df.head()\n",
    "test_df.defect_label.value_counts()"
   ]
  },
  {
   "cell_type": "code",
   "execution_count": 6,
   "id": "f2f4a59c",
   "metadata": {},
   "outputs": [],
   "source": [
    "# mark down which images have defects\n",
    "# so that we can further classify what kind of defects those are\n",
    "\n",
    "test_df_defect=test_df[test_df['defect_label']==1].copy()\n",
    "\n",
    "test_df_noDefect=test_df[test_df['defect_label']==0].copy()"
   ]
  },
  {
   "cell_type": "markdown",
   "id": "70ba2fb1",
   "metadata": {},
   "source": [
    "# III. Further classify the types of the predicted defects\n",
    "(using U-Net model)"
   ]
  },
  {
   "cell_type": "code",
   "execution_count": 7,
   "id": "01ede18d",
   "metadata": {},
   "outputs": [],
   "source": [
    "# for the metrics in the model\n",
    "def dice_coef(y_true,y_pred,smooth=1):\n",
    "    \n",
    "    y_true_f=K.flatten(y_true)\n",
    "    y_pred_f=K.flatten(y_pred)\n",
    "    \n",
    "    intersection=K.sum(y_true_f*y_pred_f)\n",
    "    \n",
    "    return (2*intersection+smooth)/(K.sum(y_true_f)+K.sum(y_pred_f)+smooth)"
   ]
  },
  {
   "cell_type": "code",
   "execution_count": 8,
   "id": "17415294",
   "metadata": {
    "scrolled": true
   },
   "outputs": [
    {
     "name": "stdout",
     "output_type": "stream",
     "text": [
      "300/300 [==============================] - 3s 6ms/step\n"
     ]
    },
    {
     "name": "stderr",
     "output_type": "stream",
     "text": [
      "300it [00:17, 17.20it/s]\n"
     ]
    },
    {
     "name": "stdout",
     "output_type": "stream",
     "text": [
      "300/300 [==============================] - 2s 6ms/step\n"
     ]
    },
    {
     "name": "stderr",
     "output_type": "stream",
     "text": [
      "300it [00:17, 17.59it/s]\n"
     ]
    },
    {
     "name": "stdout",
     "output_type": "stream",
     "text": [
      "300/300 [==============================] - 2s 6ms/step\n"
     ]
    },
    {
     "name": "stderr",
     "output_type": "stream",
     "text": [
      "300it [00:16, 18.15it/s]"
     ]
    },
    {
     "name": "stdout",
     "output_type": "stream",
     "text": [
      "\r",
      "  1/300 [..............................] - ETA: 7s"
     ]
    },
    {
     "name": "stderr",
     "output_type": "stream",
     "text": [
      "\n"
     ]
    },
    {
     "name": "stdout",
     "output_type": "stream",
     "text": [
      "300/300 [==============================] - 2s 6ms/step\n"
     ]
    },
    {
     "name": "stderr",
     "output_type": "stream",
     "text": [
      "300it [00:16, 18.09it/s]\n"
     ]
    },
    {
     "name": "stdout",
     "output_type": "stream",
     "text": [
      "300/300 [==============================] - 2s 6ms/step\n"
     ]
    },
    {
     "name": "stderr",
     "output_type": "stream",
     "text": [
      "300it [00:16, 18.21it/s]"
     ]
    },
    {
     "name": "stdout",
     "output_type": "stream",
     "text": [
      "\r",
      "  1/300 [..............................] - ETA: 7s"
     ]
    },
    {
     "name": "stderr",
     "output_type": "stream",
     "text": [
      "\n"
     ]
    },
    {
     "name": "stdout",
     "output_type": "stream",
     "text": [
      "300/300 [==============================] - 2s 6ms/step\n"
     ]
    },
    {
     "name": "stderr",
     "output_type": "stream",
     "text": [
      "300it [00:16, 18.52it/s]\n"
     ]
    },
    {
     "name": "stdout",
     "output_type": "stream",
     "text": [
      "300/300 [==============================] - 2s 6ms/step\n"
     ]
    },
    {
     "name": "stderr",
     "output_type": "stream",
     "text": [
      "300it [00:16, 18.47it/s]"
     ]
    },
    {
     "name": "stdout",
     "output_type": "stream",
     "text": [
      "\r",
      "  1/300 [..............................] - ETA: 7s"
     ]
    },
    {
     "name": "stderr",
     "output_type": "stream",
     "text": [
      "\n"
     ]
    },
    {
     "name": "stdout",
     "output_type": "stream",
     "text": [
      "300/300 [==============================] - 2s 6ms/step\n"
     ]
    },
    {
     "name": "stderr",
     "output_type": "stream",
     "text": [
      "300it [00:16, 18.47it/s]\n"
     ]
    },
    {
     "name": "stdout",
     "output_type": "stream",
     "text": [
      "300/300 [==============================] - 2s 6ms/step\n"
     ]
    },
    {
     "name": "stderr",
     "output_type": "stream",
     "text": [
      "300it [00:16, 18.44it/s]\n"
     ]
    },
    {
     "name": "stdout",
     "output_type": "stream",
     "text": [
      "300/300 [==============================] - 2s 6ms/step\n"
     ]
    },
    {
     "name": "stderr",
     "output_type": "stream",
     "text": [
      "300it [00:16, 18.45it/s]\n"
     ]
    },
    {
     "name": "stdout",
     "output_type": "stream",
     "text": [
      "300/300 [==============================] - 2s 6ms/step\n"
     ]
    },
    {
     "name": "stderr",
     "output_type": "stream",
     "text": [
      "300it [00:16, 18.45it/s]"
     ]
    },
    {
     "name": "stdout",
     "output_type": "stream",
     "text": [
      "\r",
      "  1/300 [..............................] - ETA: 7s"
     ]
    },
    {
     "name": "stderr",
     "output_type": "stream",
     "text": [
      "\n"
     ]
    },
    {
     "name": "stdout",
     "output_type": "stream",
     "text": [
      "300/300 [==============================] - 2s 6ms/step\n"
     ]
    },
    {
     "name": "stderr",
     "output_type": "stream",
     "text": [
      "300it [00:16, 18.32it/s]\n"
     ]
    },
    {
     "name": "stdout",
     "output_type": "stream",
     "text": [
      "279/279 [==============================] - 2s 6ms/step\n"
     ]
    },
    {
     "name": "stderr",
     "output_type": "stream",
     "text": [
      "279it [00:15, 18.38it/s]\n"
     ]
    }
   ],
   "source": [
    "U_net_model=load_model('../2_U-net/Segmentation_Unet.h520210820',\n",
    "                       custom_objects={'dice_coef': dice_coef})\n",
    "\n",
    "df=[] # for collecting predicted images\n",
    "step=300\n",
    "\n",
    "\n",
    "for i in range(0, test_df_defect.shape[0], step):\n",
    "    batch_idx=list(range(i,min(test_df_defect.shape[0],i+step)))\n",
    "\n",
    "    mask_test_gen=Mask_DataGenerator(\n",
    "        batch_idx,\n",
    "        df=test_df_defect,\n",
    "        target_df=test_df_defect,\n",
    "        mode='predict',\n",
    "        base_path='../data/test_images',\n",
    "        batch_size=1,\n",
    "        shuffle=False\n",
    "    )\n",
    "\n",
    "    batch_pred_masks=U_net_model.predict(mask_test_gen,verbose=1)\n",
    "\n",
    "    for j, b in tqdm(enumerate(batch_idx)):\n",
    "        filename=test_df_defect['ImageId'].iloc[b]\n",
    "        data={'ImageId':[filename,filename,filename,filename],\n",
    "              'ClassId':[1,2,3,4],\n",
    "              'EncodedPixels':['','','','']}\n",
    "        image_df=pd.DataFrame(\n",
    "            data,columns=['ImageId','ClassId','EncodedPixels'])\n",
    "        pred_masks=batch_pred_masks[j,].round().astype(int)\n",
    "        pred_rles=build_rles(pred_masks)\n",
    "\n",
    "        for ii in range(4):\n",
    "            image_df.loc[ii,'EncodedPixels']=pred_rles[ii]\n",
    "\n",
    "        df.append(image_df)\n",
    "\n",
    "    gc.collect()\n",
    "    \n",
    "    "
   ]
  },
  {
   "cell_type": "markdown",
   "id": "3b92403e",
   "metadata": {},
   "source": [
    "# IV. Submission"
   ]
  },
  {
   "cell_type": "code",
   "execution_count": 9,
   "id": "5650db82",
   "metadata": {
    "scrolled": true
   },
   "outputs": [
    {
     "name": "stdout",
     "output_type": "stream",
     "text": [
      "(15516, 3)\n"
     ]
    },
    {
     "data": {
      "text/html": [
       "<div>\n",
       "<style scoped>\n",
       "    .dataframe tbody tr th:only-of-type {\n",
       "        vertical-align: middle;\n",
       "    }\n",
       "\n",
       "    .dataframe tbody tr th {\n",
       "        vertical-align: top;\n",
       "    }\n",
       "\n",
       "    .dataframe thead th {\n",
       "        text-align: right;\n",
       "    }\n",
       "</style>\n",
       "<table border=\"1\" class=\"dataframe\">\n",
       "  <thead>\n",
       "    <tr style=\"text-align: right;\">\n",
       "      <th></th>\n",
       "      <th>ImageId</th>\n",
       "      <th>ClassId</th>\n",
       "      <th>EncodedPixels</th>\n",
       "    </tr>\n",
       "  </thead>\n",
       "  <tbody>\n",
       "    <tr>\n",
       "      <th>0</th>\n",
       "      <td>002451917.jpg</td>\n",
       "      <td>1</td>\n",
       "      <td></td>\n",
       "    </tr>\n",
       "    <tr>\n",
       "      <th>1</th>\n",
       "      <td>002451917.jpg</td>\n",
       "      <td>2</td>\n",
       "      <td></td>\n",
       "    </tr>\n",
       "    <tr>\n",
       "      <th>2</th>\n",
       "      <td>002451917.jpg</td>\n",
       "      <td>3</td>\n",
       "      <td>30353 1 30357 1 30361 1 30363 1 30365 1 30369 ...</td>\n",
       "    </tr>\n",
       "    <tr>\n",
       "      <th>3</th>\n",
       "      <td>002451917.jpg</td>\n",
       "      <td>4</td>\n",
       "      <td></td>\n",
       "    </tr>\n",
       "    <tr>\n",
       "      <th>0</th>\n",
       "      <td>003c5da97.jpg</td>\n",
       "      <td>1</td>\n",
       "      <td></td>\n",
       "    </tr>\n",
       "    <tr>\n",
       "      <th>1</th>\n",
       "      <td>003c5da97.jpg</td>\n",
       "      <td>2</td>\n",
       "      <td></td>\n",
       "    </tr>\n",
       "    <tr>\n",
       "      <th>2</th>\n",
       "      <td>003c5da97.jpg</td>\n",
       "      <td>3</td>\n",
       "      <td>28452 1 28962 1 28964 1 28966 1 28968 1 29213 ...</td>\n",
       "    </tr>\n",
       "    <tr>\n",
       "      <th>3</th>\n",
       "      <td>003c5da97.jpg</td>\n",
       "      <td>4</td>\n",
       "      <td>1392 1 1643 10 1888 1 1890 22 2086 1 2088 1 21...</td>\n",
       "    </tr>\n",
       "    <tr>\n",
       "      <th>0</th>\n",
       "      <td>0042e163f.jpg</td>\n",
       "      <td>1</td>\n",
       "      <td></td>\n",
       "    </tr>\n",
       "    <tr>\n",
       "      <th>1</th>\n",
       "      <td>0042e163f.jpg</td>\n",
       "      <td>2</td>\n",
       "      <td></td>\n",
       "    </tr>\n",
       "    <tr>\n",
       "      <th>2</th>\n",
       "      <td>0042e163f.jpg</td>\n",
       "      <td>3</td>\n",
       "      <td>113624 7 113878 10 114132 15 114388 16 114642 ...</td>\n",
       "    </tr>\n",
       "    <tr>\n",
       "      <th>3</th>\n",
       "      <td>0042e163f.jpg</td>\n",
       "      <td>4</td>\n",
       "      <td>60946 3 61198 8 61453 10 61709 10 61965 10 622...</td>\n",
       "    </tr>\n",
       "    <tr>\n",
       "      <th>0</th>\n",
       "      <td>004f40c73.jpg</td>\n",
       "      <td>1</td>\n",
       "      <td></td>\n",
       "    </tr>\n",
       "    <tr>\n",
       "      <th>1</th>\n",
       "      <td>004f40c73.jpg</td>\n",
       "      <td>2</td>\n",
       "      <td></td>\n",
       "    </tr>\n",
       "    <tr>\n",
       "      <th>2</th>\n",
       "      <td>004f40c73.jpg</td>\n",
       "      <td>3</td>\n",
       "      <td></td>\n",
       "    </tr>\n",
       "    <tr>\n",
       "      <th>3</th>\n",
       "      <td>004f40c73.jpg</td>\n",
       "      <td>4</td>\n",
       "      <td>3460 1 3715 2 3972 1 4228 3 4484 3 4740 1 4742...</td>\n",
       "    </tr>\n",
       "    <tr>\n",
       "      <th>0</th>\n",
       "      <td>00513039a.jpg</td>\n",
       "      <td>1</td>\n",
       "      <td></td>\n",
       "    </tr>\n",
       "    <tr>\n",
       "      <th>1</th>\n",
       "      <td>00513039a.jpg</td>\n",
       "      <td>2</td>\n",
       "      <td></td>\n",
       "    </tr>\n",
       "    <tr>\n",
       "      <th>2</th>\n",
       "      <td>00513039a.jpg</td>\n",
       "      <td>3</td>\n",
       "      <td>75634 3 75638 1 75891 1 75893 1 76142 11 76399...</td>\n",
       "    </tr>\n",
       "    <tr>\n",
       "      <th>3</th>\n",
       "      <td>00513039a.jpg</td>\n",
       "      <td>4</td>\n",
       "      <td>76724 1 76976 1 76978 3 77234 3 77484 1 77487 ...</td>\n",
       "    </tr>\n",
       "  </tbody>\n",
       "</table>\n",
       "</div>"
      ],
      "text/plain": [
       "         ImageId  ClassId                                      EncodedPixels\n",
       "0  002451917.jpg        1                                                   \n",
       "1  002451917.jpg        2                                                   \n",
       "2  002451917.jpg        3  30353 1 30357 1 30361 1 30363 1 30365 1 30369 ...\n",
       "3  002451917.jpg        4                                                   \n",
       "0  003c5da97.jpg        1                                                   \n",
       "1  003c5da97.jpg        2                                                   \n",
       "2  003c5da97.jpg        3  28452 1 28962 1 28964 1 28966 1 28968 1 29213 ...\n",
       "3  003c5da97.jpg        4  1392 1 1643 10 1888 1 1890 22 2086 1 2088 1 21...\n",
       "0  0042e163f.jpg        1                                                   \n",
       "1  0042e163f.jpg        2                                                   \n",
       "2  0042e163f.jpg        3  113624 7 113878 10 114132 15 114388 16 114642 ...\n",
       "3  0042e163f.jpg        4  60946 3 61198 8 61453 10 61709 10 61965 10 622...\n",
       "0  004f40c73.jpg        1                                                   \n",
       "1  004f40c73.jpg        2                                                   \n",
       "2  004f40c73.jpg        3                                                   \n",
       "3  004f40c73.jpg        4  3460 1 3715 2 3972 1 4228 3 4484 3 4740 1 4742...\n",
       "0  00513039a.jpg        1                                                   \n",
       "1  00513039a.jpg        2                                                   \n",
       "2  00513039a.jpg        3  75634 3 75638 1 75891 1 75893 1 76142 11 76399...\n",
       "3  00513039a.jpg        4  76724 1 76976 1 76978 3 77234 3 77484 1 77487 ..."
      ]
     },
     "execution_count": 9,
     "metadata": {},
     "output_type": "execute_result"
    }
   ],
   "source": [
    "df=pd.concat(df)\n",
    "print(df.shape)\n",
    "df.head(20)"
   ]
  },
  {
   "cell_type": "code",
   "execution_count": 10,
   "id": "26da3b0d",
   "metadata": {},
   "outputs": [
    {
     "name": "stdout",
     "output_type": "stream",
     "text": [
      "(6508, 3)\n"
     ]
    }
   ],
   "source": [
    "# combine results from predicted masks with other images\n",
    "tt=[]\n",
    "\n",
    "for img in test_df_noDefect.index:\n",
    "    image_df=pd.DataFrame(columns=['ImageId','ClassId','EncodedPixels'])\n",
    "    for ii in range(4): # ii is the class of defect\n",
    "        image_df.loc[ii,'EncodedPixels']=np.nan\n",
    "        image_df.loc[ii,'ClassId']=ii+1\n",
    "        image_df.loc[ii,'ImageId']=test_df_noDefect.loc[img,'ImageId']\n",
    "    tt.append(image_df)\n",
    "\n",
    "tt=pd.concat(tt)\n",
    "print(tt.shape)\n"
   ]
  },
  {
   "cell_type": "code",
   "execution_count": 11,
   "id": "b6220a45",
   "metadata": {},
   "outputs": [
    {
     "name": "stdout",
     "output_type": "stream",
     "text": [
      "(22024, 3)\n"
     ]
    },
    {
     "data": {
      "text/html": [
       "<div>\n",
       "<style scoped>\n",
       "    .dataframe tbody tr th:only-of-type {\n",
       "        vertical-align: middle;\n",
       "    }\n",
       "\n",
       "    .dataframe tbody tr th {\n",
       "        vertical-align: top;\n",
       "    }\n",
       "\n",
       "    .dataframe thead th {\n",
       "        text-align: right;\n",
       "    }\n",
       "</style>\n",
       "<table border=\"1\" class=\"dataframe\">\n",
       "  <thead>\n",
       "    <tr style=\"text-align: right;\">\n",
       "      <th></th>\n",
       "      <th>ImageId</th>\n",
       "      <th>ClassId</th>\n",
       "      <th>EncodedPixels</th>\n",
       "    </tr>\n",
       "  </thead>\n",
       "  <tbody>\n",
       "    <tr>\n",
       "      <th>0</th>\n",
       "      <td>002451917.jpg</td>\n",
       "      <td>1</td>\n",
       "      <td></td>\n",
       "    </tr>\n",
       "    <tr>\n",
       "      <th>1</th>\n",
       "      <td>002451917.jpg</td>\n",
       "      <td>2</td>\n",
       "      <td></td>\n",
       "    </tr>\n",
       "    <tr>\n",
       "      <th>2</th>\n",
       "      <td>002451917.jpg</td>\n",
       "      <td>3</td>\n",
       "      <td>30353 1 30357 1 30361 1 30363 1 30365 1 30369 ...</td>\n",
       "    </tr>\n",
       "    <tr>\n",
       "      <th>3</th>\n",
       "      <td>002451917.jpg</td>\n",
       "      <td>4</td>\n",
       "      <td></td>\n",
       "    </tr>\n",
       "    <tr>\n",
       "      <th>0</th>\n",
       "      <td>003c5da97.jpg</td>\n",
       "      <td>1</td>\n",
       "      <td></td>\n",
       "    </tr>\n",
       "  </tbody>\n",
       "</table>\n",
       "</div>"
      ],
      "text/plain": [
       "         ImageId ClassId                                      EncodedPixels\n",
       "0  002451917.jpg       1                                                   \n",
       "1  002451917.jpg       2                                                   \n",
       "2  002451917.jpg       3  30353 1 30357 1 30361 1 30363 1 30365 1 30369 ...\n",
       "3  002451917.jpg       4                                                   \n",
       "0  003c5da97.jpg       1                                                   "
      ]
     },
     "execution_count": 11,
     "metadata": {},
     "output_type": "execute_result"
    }
   ],
   "source": [
    "final_submission_df=pd.concat([df,tt])\n",
    "print(final_submission_df.shape)\n",
    "final_submission_df.head()"
   ]
  },
  {
   "cell_type": "code",
   "execution_count": 12,
   "id": "5689b443",
   "metadata": {},
   "outputs": [
    {
     "data": {
      "text/html": [
       "<div>\n",
       "<style scoped>\n",
       "    .dataframe tbody tr th:only-of-type {\n",
       "        vertical-align: middle;\n",
       "    }\n",
       "\n",
       "    .dataframe tbody tr th {\n",
       "        vertical-align: top;\n",
       "    }\n",
       "\n",
       "    .dataframe thead th {\n",
       "        text-align: right;\n",
       "    }\n",
       "</style>\n",
       "<table border=\"1\" class=\"dataframe\">\n",
       "  <thead>\n",
       "    <tr style=\"text-align: right;\">\n",
       "      <th></th>\n",
       "      <th>ImageId</th>\n",
       "      <th>ClassId</th>\n",
       "      <th>EncodedPixels</th>\n",
       "      <th>EndcodedPixels</th>\n",
       "      <th>ImageId_ClassId</th>\n",
       "    </tr>\n",
       "  </thead>\n",
       "  <tbody>\n",
       "    <tr>\n",
       "      <th>0</th>\n",
       "      <td>002451917.jpg</td>\n",
       "      <td>1</td>\n",
       "      <td></td>\n",
       "      <td>NaN</td>\n",
       "      <td>002451917.jpg_1</td>\n",
       "    </tr>\n",
       "    <tr>\n",
       "      <th>1</th>\n",
       "      <td>002451917.jpg</td>\n",
       "      <td>2</td>\n",
       "      <td></td>\n",
       "      <td>NaN</td>\n",
       "      <td>002451917.jpg_2</td>\n",
       "    </tr>\n",
       "    <tr>\n",
       "      <th>2</th>\n",
       "      <td>002451917.jpg</td>\n",
       "      <td>3</td>\n",
       "      <td>30353 1 30357 1 30361 1 30363 1 30365 1 30369 ...</td>\n",
       "      <td>30353 1 30357 1 30361 1 30363 1 30365 1 30369 ...</td>\n",
       "      <td>002451917.jpg_3</td>\n",
       "    </tr>\n",
       "    <tr>\n",
       "      <th>3</th>\n",
       "      <td>002451917.jpg</td>\n",
       "      <td>4</td>\n",
       "      <td></td>\n",
       "      <td>NaN</td>\n",
       "      <td>002451917.jpg_4</td>\n",
       "    </tr>\n",
       "    <tr>\n",
       "      <th>0</th>\n",
       "      <td>003c5da97.jpg</td>\n",
       "      <td>1</td>\n",
       "      <td></td>\n",
       "      <td>NaN</td>\n",
       "      <td>003c5da97.jpg_1</td>\n",
       "    </tr>\n",
       "  </tbody>\n",
       "</table>\n",
       "</div>"
      ],
      "text/plain": [
       "         ImageId ClassId                                      EncodedPixels  \\\n",
       "0  002451917.jpg       1                                                      \n",
       "1  002451917.jpg       2                                                      \n",
       "2  002451917.jpg       3  30353 1 30357 1 30361 1 30363 1 30365 1 30369 ...   \n",
       "3  002451917.jpg       4                                                      \n",
       "0  003c5da97.jpg       1                                                      \n",
       "\n",
       "                                      EndcodedPixels  ImageId_ClassId  \n",
       "0                                                NaN  002451917.jpg_1  \n",
       "1                                                NaN  002451917.jpg_2  \n",
       "2  30353 1 30357 1 30361 1 30363 1 30365 1 30369 ...  002451917.jpg_3  \n",
       "3                                                NaN  002451917.jpg_4  \n",
       "0                                                NaN  003c5da97.jpg_1  "
      ]
     },
     "execution_count": 12,
     "metadata": {},
     "output_type": "execute_result"
    }
   ],
   "source": [
    "final_submission_df['EndcodedPixels']=final_submission_df['EncodedPixels'].apply(\n",
    "    lambda x: np.nan if x=='' else x)\n",
    "\n",
    "final_submission_df['ClassId']=final_submission_df['ClassId'].astype(str)\n",
    "final_submission_df['ImageId_ClassId']=final_submission_df['ImageId']+'_'+final_submission_df['ClassId']\n",
    "\n",
    "final_submission_df.head()\n"
   ]
  },
  {
   "cell_type": "code",
   "execution_count": 13,
   "id": "dc283349",
   "metadata": {},
   "outputs": [],
   "source": [
    "final_submission_df[['ImageId_ClassId','EncodedPixels']].to_csv(\n",
    "    'csvfiles/VGG_submission.csv',index=False)\n"
   ]
  },
  {
   "cell_type": "code",
   "execution_count": null,
   "id": "c88745c5",
   "metadata": {},
   "outputs": [],
   "source": []
  }
 ],
 "metadata": {
  "kernelspec": {
   "display_name": "Python 3",
   "language": "python",
   "name": "python3"
  },
  "language_info": {
   "codemirror_mode": {
    "name": "ipython",
    "version": 3
   },
   "file_extension": ".py",
   "mimetype": "text/x-python",
   "name": "python",
   "nbconvert_exporter": "python",
   "pygments_lexer": "ipython3",
   "version": "3.8.8"
  }
 },
 "nbformat": 4,
 "nbformat_minor": 5
}

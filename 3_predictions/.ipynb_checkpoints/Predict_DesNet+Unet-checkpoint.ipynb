{
 "cells": [
  {
   "cell_type": "code",
   "execution_count": 1,
   "id": "1c370ecd",
   "metadata": {},
   "outputs": [
    {
     "name": "stdout",
     "output_type": "stream",
     "text": [
      "Found 7540 validated image filenames.\n",
      "Found 2514 validated image filenames.\n",
      "Found 2514 validated image filenames.\n",
      "Found 5506 validated image filenames.\n"
     ]
    }
   ],
   "source": [
    "import numpy as np\n",
    "import pandas as pd\n",
    "import gc\n",
    "from tqdm import tqdm\n",
    "\n",
    "from tensorflow import keras\n",
    "\n",
    "from tensorflow.keras.models import load_model\n",
    "from tensorflow.keras.preprocessing.image import ImageDataGenerator\n",
    "\n",
    "import sys\n",
    "sys.path.append('..')\n",
    "from data import test_df, submit_test_gen, BATCH_SIZE, MASK_BATCH_SIZE\n",
    "from data import Mask_DataGenerator\n",
    "from data import rle2mask, mask2rle, build_rles"
   ]
  },
  {
   "cell_type": "markdown",
   "id": "2a4894c1",
   "metadata": {},
   "source": [
    "# I. Load Test Data"
   ]
  },
  {
   "cell_type": "code",
   "execution_count": 2,
   "id": "8fa780a7",
   "metadata": {},
   "outputs": [
    {
     "data": {
      "text/html": [
       "<div>\n",
       "<style scoped>\n",
       "    .dataframe tbody tr th:only-of-type {\n",
       "        vertical-align: middle;\n",
       "    }\n",
       "\n",
       "    .dataframe tbody tr th {\n",
       "        vertical-align: top;\n",
       "    }\n",
       "\n",
       "    .dataframe thead th {\n",
       "        text-align: right;\n",
       "    }\n",
       "</style>\n",
       "<table border=\"1\" class=\"dataframe\">\n",
       "  <thead>\n",
       "    <tr style=\"text-align: right;\">\n",
       "      <th></th>\n",
       "      <th>ImageId</th>\n",
       "      <th>EncodedPixels</th>\n",
       "      <th>ClassId</th>\n",
       "    </tr>\n",
       "  </thead>\n",
       "  <tbody>\n",
       "    <tr>\n",
       "      <th>0</th>\n",
       "      <td>0000f269f.jpg</td>\n",
       "      <td>1 409600</td>\n",
       "      <td>0</td>\n",
       "    </tr>\n",
       "    <tr>\n",
       "      <th>1</th>\n",
       "      <td>000ccc2ac.jpg</td>\n",
       "      <td>1 409600</td>\n",
       "      <td>0</td>\n",
       "    </tr>\n",
       "    <tr>\n",
       "      <th>2</th>\n",
       "      <td>002451917.jpg</td>\n",
       "      <td>1 409600</td>\n",
       "      <td>0</td>\n",
       "    </tr>\n",
       "    <tr>\n",
       "      <th>3</th>\n",
       "      <td>003c5da97.jpg</td>\n",
       "      <td>1 409600</td>\n",
       "      <td>0</td>\n",
       "    </tr>\n",
       "    <tr>\n",
       "      <th>4</th>\n",
       "      <td>0042e163f.jpg</td>\n",
       "      <td>1 409600</td>\n",
       "      <td>0</td>\n",
       "    </tr>\n",
       "  </tbody>\n",
       "</table>\n",
       "</div>"
      ],
      "text/plain": [
       "         ImageId EncodedPixels  ClassId\n",
       "0  0000f269f.jpg      1 409600        0\n",
       "1  000ccc2ac.jpg      1 409600        0\n",
       "2  002451917.jpg      1 409600        0\n",
       "3  003c5da97.jpg      1 409600        0\n",
       "4  0042e163f.jpg      1 409600        0"
      ]
     },
     "execution_count": 2,
     "metadata": {},
     "output_type": "execute_result"
    }
   ],
   "source": [
    "test_df=pd.read_csv('../data/sample_submission.csv')\n",
    "test_df.head()"
   ]
  },
  {
   "cell_type": "code",
   "execution_count": 3,
   "id": "e5860d9c",
   "metadata": {},
   "outputs": [],
   "source": [
    "# keep only the ImageId and we will\n",
    "# predict if there is defects and \n",
    "# which kind(s) of defects it is\n",
    "\n",
    "test_df=test_df[['ImageId']]"
   ]
  },
  {
   "cell_type": "code",
   "execution_count": 4,
   "id": "408a4949",
   "metadata": {},
   "outputs": [
    {
     "data": {
      "text/html": [
       "<div>\n",
       "<style scoped>\n",
       "    .dataframe tbody tr th:only-of-type {\n",
       "        vertical-align: middle;\n",
       "    }\n",
       "\n",
       "    .dataframe tbody tr th {\n",
       "        vertical-align: top;\n",
       "    }\n",
       "\n",
       "    .dataframe thead th {\n",
       "        text-align: right;\n",
       "    }\n",
       "</style>\n",
       "<table border=\"1\" class=\"dataframe\">\n",
       "  <thead>\n",
       "    <tr style=\"text-align: right;\">\n",
       "      <th></th>\n",
       "      <th>ImageId</th>\n",
       "    </tr>\n",
       "  </thead>\n",
       "  <tbody>\n",
       "    <tr>\n",
       "      <th>0</th>\n",
       "      <td>0000f269f.jpg</td>\n",
       "    </tr>\n",
       "    <tr>\n",
       "      <th>1</th>\n",
       "      <td>000ccc2ac.jpg</td>\n",
       "    </tr>\n",
       "    <tr>\n",
       "      <th>2</th>\n",
       "      <td>002451917.jpg</td>\n",
       "    </tr>\n",
       "    <tr>\n",
       "      <th>3</th>\n",
       "      <td>003c5da97.jpg</td>\n",
       "    </tr>\n",
       "    <tr>\n",
       "      <th>4</th>\n",
       "      <td>0042e163f.jpg</td>\n",
       "    </tr>\n",
       "  </tbody>\n",
       "</table>\n",
       "</div>"
      ],
      "text/plain": [
       "         ImageId\n",
       "0  0000f269f.jpg\n",
       "1  000ccc2ac.jpg\n",
       "2  002451917.jpg\n",
       "3  003c5da97.jpg\n",
       "4  0042e163f.jpg"
      ]
     },
     "execution_count": 4,
     "metadata": {},
     "output_type": "execute_result"
    }
   ],
   "source": [
    "test_df.head()"
   ]
  },
  {
   "cell_type": "markdown",
   "id": "075224fa",
   "metadata": {},
   "source": [
    "# II. Predict if there is defect (Binary predictions)\n",
    "\n",
    "(using the Dense Network)"
   ]
  },
  {
   "cell_type": "code",
   "execution_count": null,
   "id": "a9b96f40",
   "metadata": {},
   "outputs": [
    {
     "name": "stdout",
     "output_type": "stream",
     "text": [
      "predicting...\n",
      " 51/173 [=======>......................] - ETA: 17s"
     ]
    }
   ],
   "source": [
    "# load the DenseNet model for predicting if it has defect or not\n",
    "densenet_model=load_model('../1a_DenseNet_Kaiming/CNNDenseNet2classes.h5')\n",
    "compute_steps_per_epoch=lambda x: int(np.ceil(x/BATCH_SIZE))\n",
    "\n",
    "step_size_test=compute_steps_per_epoch(test_df.shape[0])\n",
    "print('predicting...')\n",
    "submit_test=densenet_model.predict(\n",
    "    submit_test_gen,\n",
    "    steps=step_size_test,\n",
    "    verbose=1)\n",
    "\n",
    "test_df['defect_label']=(submit_test>0.5).astype('int32')\n",
    "test_df.head()\n",
    "test_df.defect_label.value_counts()"
   ]
  },
  {
   "cell_type": "code",
   "execution_count": null,
   "id": "f2f4a59c",
   "metadata": {},
   "outputs": [],
   "source": [
    "# mark down which images have defects\n",
    "# so that we can further classify what kind of defects those are\n",
    "\n",
    "test_df_defect=test_df[test_df['defect_label']==1].copy()\n",
    "\n",
    "test_df_noDefect=test_df[test_df['defect_label']==0].copy()"
   ]
  },
  {
   "cell_type": "markdown",
   "id": "70ba2fb1",
   "metadata": {},
   "source": [
    "# III. Further classify the types of the predicted defects\n",
    "(using U-Net model)"
   ]
  },
  {
   "cell_type": "code",
   "execution_count": 7,
   "id": "01ede18d",
   "metadata": {},
   "outputs": [],
   "source": [
    "# for the metrics in the model\n",
    "def dice_coef(y_true,y_pred,smooth=1):\n",
    "    \n",
    "    y_true_f=K.flatten(y_true)\n",
    "    y_pred_f=K.flatten(y_pred)\n",
    "    \n",
    "    intersection=K.sum(y_true_f*y_pred_f)\n",
    "    \n",
    "    return (2*intersection+smooth)/(K.sum(y_true_f)+K.sum(y_pred_f)+smooth)"
   ]
  },
  {
   "cell_type": "code",
   "execution_count": 8,
   "id": "17415294",
   "metadata": {
    "scrolled": true
   },
   "outputs": [
    {
     "name": "stdout",
     "output_type": "stream",
     "text": [
      "300/300 [==============================] - 8s 6ms/step\n"
     ]
    },
    {
     "name": "stderr",
     "output_type": "stream",
     "text": [
      "300it [00:17, 17.55it/s]\n"
     ]
    },
    {
     "name": "stdout",
     "output_type": "stream",
     "text": [
      "300/300 [==============================] - 2s 6ms/step\n"
     ]
    },
    {
     "name": "stderr",
     "output_type": "stream",
     "text": [
      "300it [00:17, 17.61it/s]\n"
     ]
    },
    {
     "name": "stdout",
     "output_type": "stream",
     "text": [
      "300/300 [==============================] - 2s 6ms/step\n"
     ]
    },
    {
     "name": "stderr",
     "output_type": "stream",
     "text": [
      "300it [00:17, 17.57it/s]\n"
     ]
    },
    {
     "name": "stdout",
     "output_type": "stream",
     "text": [
      "300/300 [==============================] - 2s 6ms/step\n"
     ]
    },
    {
     "name": "stderr",
     "output_type": "stream",
     "text": [
      "300it [00:17, 17.63it/s]\n"
     ]
    },
    {
     "name": "stdout",
     "output_type": "stream",
     "text": [
      "300/300 [==============================] - 2s 6ms/step\n"
     ]
    },
    {
     "name": "stderr",
     "output_type": "stream",
     "text": [
      "300it [00:17, 17.47it/s]\n"
     ]
    },
    {
     "name": "stdout",
     "output_type": "stream",
     "text": [
      "300/300 [==============================] - 2s 6ms/step\n"
     ]
    },
    {
     "name": "stderr",
     "output_type": "stream",
     "text": [
      "300it [00:16, 17.86it/s]\n"
     ]
    },
    {
     "name": "stdout",
     "output_type": "stream",
     "text": [
      "300/300 [==============================] - 2s 6ms/step\n"
     ]
    },
    {
     "name": "stderr",
     "output_type": "stream",
     "text": [
      "300it [00:16, 17.93it/s]\n"
     ]
    },
    {
     "name": "stdout",
     "output_type": "stream",
     "text": [
      "300/300 [==============================] - 2s 6ms/step\n"
     ]
    },
    {
     "name": "stderr",
     "output_type": "stream",
     "text": [
      "300it [00:16, 18.05it/s]\n"
     ]
    },
    {
     "name": "stdout",
     "output_type": "stream",
     "text": [
      "300/300 [==============================] - 2s 6ms/step\n"
     ]
    },
    {
     "name": "stderr",
     "output_type": "stream",
     "text": [
      "300it [00:16, 17.84it/s]\n"
     ]
    },
    {
     "name": "stdout",
     "output_type": "stream",
     "text": [
      "136/136 [==============================] - 1s 6ms/step\n"
     ]
    },
    {
     "name": "stderr",
     "output_type": "stream",
     "text": [
      "136it [00:07, 17.97it/s]\n"
     ]
    }
   ],
   "source": [
    "U_net_model=load_model('../2_U-net_Kaiming/Segmentation_Unet.h520210927',\n",
    "                       custom_objects={'dice_coef': dice_coef})\n",
    "\n",
    "df=[] # for collecting predicted images\n",
    "step=300\n",
    "\n",
    "\n",
    "for i in range(0, test_df_defect.shape[0], step):\n",
    "    batch_idx=list(range(i,min(test_df_defect.shape[0],i+step)))\n",
    "\n",
    "    mask_test_gen=Mask_DataGenerator(\n",
    "        batch_idx,\n",
    "        df=test_df_defect,\n",
    "        target_df=test_df_defect,\n",
    "        mode='predict',\n",
    "        base_path='../data/test_images',\n",
    "        batch_size=1,\n",
    "        shuffle=False\n",
    "    )\n",
    "\n",
    "    batch_pred_masks=U_net_model.predict(mask_test_gen,verbose=1)\n",
    "\n",
    "    for j, b in tqdm(enumerate(batch_idx)):\n",
    "        filename=test_df_defect['ImageId'].iloc[b]\n",
    "        data={'ImageId':[filename,filename,filename,filename],\n",
    "              'ClassId':[1,2,3,4],\n",
    "              'EncodedPixels':['','','','']}\n",
    "        image_df=pd.DataFrame(\n",
    "            data,columns=['ImageId','ClassId','EncodedPixels'])\n",
    "        pred_masks=batch_pred_masks[j,].round().astype(int)\n",
    "        pred_rles=build_rles(pred_masks)\n",
    "\n",
    "        for ii in range(4):\n",
    "            image_df.loc[ii,'EncodedPixels']=pred_rles[ii]\n",
    "\n",
    "        df.append(image_df)\n",
    "\n",
    "    gc.collect()\n",
    "    "
   ]
  },
  {
   "cell_type": "markdown",
   "id": "3b92403e",
   "metadata": {},
   "source": [
    "# IV. Submission"
   ]
  },
  {
   "cell_type": "code",
   "execution_count": 9,
   "id": "5650db82",
   "metadata": {
    "scrolled": true
   },
   "outputs": [
    {
     "name": "stdout",
     "output_type": "stream",
     "text": [
      "(11344, 3)\n"
     ]
    },
    {
     "data": {
      "text/html": [
       "<div>\n",
       "<style scoped>\n",
       "    .dataframe tbody tr th:only-of-type {\n",
       "        vertical-align: middle;\n",
       "    }\n",
       "\n",
       "    .dataframe tbody tr th {\n",
       "        vertical-align: top;\n",
       "    }\n",
       "\n",
       "    .dataframe thead th {\n",
       "        text-align: right;\n",
       "    }\n",
       "</style>\n",
       "<table border=\"1\" class=\"dataframe\">\n",
       "  <thead>\n",
       "    <tr style=\"text-align: right;\">\n",
       "      <th></th>\n",
       "      <th>ImageId</th>\n",
       "      <th>ClassId</th>\n",
       "      <th>EncodedPixels</th>\n",
       "    </tr>\n",
       "  </thead>\n",
       "  <tbody>\n",
       "    <tr>\n",
       "      <th>0</th>\n",
       "      <td>000ccc2ac.jpg</td>\n",
       "      <td>1</td>\n",
       "      <td></td>\n",
       "    </tr>\n",
       "    <tr>\n",
       "      <th>1</th>\n",
       "      <td>000ccc2ac.jpg</td>\n",
       "      <td>2</td>\n",
       "      <td></td>\n",
       "    </tr>\n",
       "    <tr>\n",
       "      <th>2</th>\n",
       "      <td>000ccc2ac.jpg</td>\n",
       "      <td>3</td>\n",
       "      <td></td>\n",
       "    </tr>\n",
       "    <tr>\n",
       "      <th>3</th>\n",
       "      <td>000ccc2ac.jpg</td>\n",
       "      <td>4</td>\n",
       "      <td></td>\n",
       "    </tr>\n",
       "    <tr>\n",
       "      <th>0</th>\n",
       "      <td>002451917.jpg</td>\n",
       "      <td>1</td>\n",
       "      <td></td>\n",
       "    </tr>\n",
       "    <tr>\n",
       "      <th>1</th>\n",
       "      <td>002451917.jpg</td>\n",
       "      <td>2</td>\n",
       "      <td></td>\n",
       "    </tr>\n",
       "    <tr>\n",
       "      <th>2</th>\n",
       "      <td>002451917.jpg</td>\n",
       "      <td>3</td>\n",
       "      <td>30342 1 30344 119 30469 5 30475 246 30724 253 ...</td>\n",
       "    </tr>\n",
       "    <tr>\n",
       "      <th>3</th>\n",
       "      <td>002451917.jpg</td>\n",
       "      <td>4</td>\n",
       "      <td></td>\n",
       "    </tr>\n",
       "    <tr>\n",
       "      <th>0</th>\n",
       "      <td>003c5da97.jpg</td>\n",
       "      <td>1</td>\n",
       "      <td></td>\n",
       "    </tr>\n",
       "    <tr>\n",
       "      <th>1</th>\n",
       "      <td>003c5da97.jpg</td>\n",
       "      <td>2</td>\n",
       "      <td></td>\n",
       "    </tr>\n",
       "    <tr>\n",
       "      <th>2</th>\n",
       "      <td>003c5da97.jpg</td>\n",
       "      <td>3</td>\n",
       "      <td>26402 1 26647 1 26649 1 26651 1 26653 1 26657 ...</td>\n",
       "    </tr>\n",
       "    <tr>\n",
       "      <th>3</th>\n",
       "      <td>003c5da97.jpg</td>\n",
       "      <td>4</td>\n",
       "      <td>1906 1 2160 5 2412 9 2668 11 2923 12 3179 12 3...</td>\n",
       "    </tr>\n",
       "    <tr>\n",
       "      <th>0</th>\n",
       "      <td>0042e163f.jpg</td>\n",
       "      <td>1</td>\n",
       "      <td></td>\n",
       "    </tr>\n",
       "    <tr>\n",
       "      <th>1</th>\n",
       "      <td>0042e163f.jpg</td>\n",
       "      <td>2</td>\n",
       "      <td></td>\n",
       "    </tr>\n",
       "    <tr>\n",
       "      <th>2</th>\n",
       "      <td>0042e163f.jpg</td>\n",
       "      <td>3</td>\n",
       "      <td>35347 1 35349 1 35602 1 35604 1 35606 1 35855 ...</td>\n",
       "    </tr>\n",
       "    <tr>\n",
       "      <th>3</th>\n",
       "      <td>0042e163f.jpg</td>\n",
       "      <td>4</td>\n",
       "      <td>247114 1 247118 1 247120 1 247370 3 247374 1 2...</td>\n",
       "    </tr>\n",
       "    <tr>\n",
       "      <th>0</th>\n",
       "      <td>004f40c73.jpg</td>\n",
       "      <td>1</td>\n",
       "      <td></td>\n",
       "    </tr>\n",
       "    <tr>\n",
       "      <th>1</th>\n",
       "      <td>004f40c73.jpg</td>\n",
       "      <td>2</td>\n",
       "      <td></td>\n",
       "    </tr>\n",
       "    <tr>\n",
       "      <th>2</th>\n",
       "      <td>004f40c73.jpg</td>\n",
       "      <td>3</td>\n",
       "      <td></td>\n",
       "    </tr>\n",
       "    <tr>\n",
       "      <th>3</th>\n",
       "      <td>004f40c73.jpg</td>\n",
       "      <td>4</td>\n",
       "      <td></td>\n",
       "    </tr>\n",
       "  </tbody>\n",
       "</table>\n",
       "</div>"
      ],
      "text/plain": [
       "         ImageId  ClassId                                      EncodedPixels\n",
       "0  000ccc2ac.jpg        1                                                   \n",
       "1  000ccc2ac.jpg        2                                                   \n",
       "2  000ccc2ac.jpg        3                                                   \n",
       "3  000ccc2ac.jpg        4                                                   \n",
       "0  002451917.jpg        1                                                   \n",
       "1  002451917.jpg        2                                                   \n",
       "2  002451917.jpg        3  30342 1 30344 119 30469 5 30475 246 30724 253 ...\n",
       "3  002451917.jpg        4                                                   \n",
       "0  003c5da97.jpg        1                                                   \n",
       "1  003c5da97.jpg        2                                                   \n",
       "2  003c5da97.jpg        3  26402 1 26647 1 26649 1 26651 1 26653 1 26657 ...\n",
       "3  003c5da97.jpg        4  1906 1 2160 5 2412 9 2668 11 2923 12 3179 12 3...\n",
       "0  0042e163f.jpg        1                                                   \n",
       "1  0042e163f.jpg        2                                                   \n",
       "2  0042e163f.jpg        3  35347 1 35349 1 35602 1 35604 1 35606 1 35855 ...\n",
       "3  0042e163f.jpg        4  247114 1 247118 1 247120 1 247370 3 247374 1 2...\n",
       "0  004f40c73.jpg        1                                                   \n",
       "1  004f40c73.jpg        2                                                   \n",
       "2  004f40c73.jpg        3                                                   \n",
       "3  004f40c73.jpg        4                                                   "
      ]
     },
     "execution_count": 9,
     "metadata": {},
     "output_type": "execute_result"
    }
   ],
   "source": [
    "df=pd.concat(df)\n",
    "print(df.shape)\n",
    "df.head(20)"
   ]
  },
  {
   "cell_type": "code",
   "execution_count": 10,
   "id": "26da3b0d",
   "metadata": {},
   "outputs": [
    {
     "name": "stdout",
     "output_type": "stream",
     "text": [
      "(10680, 3)\n"
     ]
    }
   ],
   "source": [
    "# combine results from predicted masks with other images\n",
    "tt=[]\n",
    "\n",
    "for img in test_df_noDefect.index:\n",
    "    image_df=pd.DataFrame(columns=['ImageId','ClassId','EncodedPixels'])\n",
    "    for ii in range(4): # ii is the class of defect\n",
    "        image_df.loc[ii,'EncodedPixels']=np.nan\n",
    "        image_df.loc[ii,'ClassId']=ii+1\n",
    "        image_df.loc[ii,'ImageId']=test_df_noDefect.loc[img,'ImageId']\n",
    "    tt.append(image_df)\n",
    "\n",
    "tt=pd.concat(tt)\n",
    "print(tt.shape)\n"
   ]
  },
  {
   "cell_type": "code",
   "execution_count": 11,
   "id": "b6220a45",
   "metadata": {},
   "outputs": [
    {
     "name": "stdout",
     "output_type": "stream",
     "text": [
      "(22024, 3)\n"
     ]
    },
    {
     "data": {
      "text/html": [
       "<div>\n",
       "<style scoped>\n",
       "    .dataframe tbody tr th:only-of-type {\n",
       "        vertical-align: middle;\n",
       "    }\n",
       "\n",
       "    .dataframe tbody tr th {\n",
       "        vertical-align: top;\n",
       "    }\n",
       "\n",
       "    .dataframe thead th {\n",
       "        text-align: right;\n",
       "    }\n",
       "</style>\n",
       "<table border=\"1\" class=\"dataframe\">\n",
       "  <thead>\n",
       "    <tr style=\"text-align: right;\">\n",
       "      <th></th>\n",
       "      <th>ImageId</th>\n",
       "      <th>ClassId</th>\n",
       "      <th>EncodedPixels</th>\n",
       "    </tr>\n",
       "  </thead>\n",
       "  <tbody>\n",
       "    <tr>\n",
       "      <th>0</th>\n",
       "      <td>000ccc2ac.jpg</td>\n",
       "      <td>1</td>\n",
       "      <td></td>\n",
       "    </tr>\n",
       "    <tr>\n",
       "      <th>1</th>\n",
       "      <td>000ccc2ac.jpg</td>\n",
       "      <td>2</td>\n",
       "      <td></td>\n",
       "    </tr>\n",
       "    <tr>\n",
       "      <th>2</th>\n",
       "      <td>000ccc2ac.jpg</td>\n",
       "      <td>3</td>\n",
       "      <td></td>\n",
       "    </tr>\n",
       "    <tr>\n",
       "      <th>3</th>\n",
       "      <td>000ccc2ac.jpg</td>\n",
       "      <td>4</td>\n",
       "      <td></td>\n",
       "    </tr>\n",
       "    <tr>\n",
       "      <th>0</th>\n",
       "      <td>002451917.jpg</td>\n",
       "      <td>1</td>\n",
       "      <td></td>\n",
       "    </tr>\n",
       "  </tbody>\n",
       "</table>\n",
       "</div>"
      ],
      "text/plain": [
       "         ImageId ClassId EncodedPixels\n",
       "0  000ccc2ac.jpg       1              \n",
       "1  000ccc2ac.jpg       2              \n",
       "2  000ccc2ac.jpg       3              \n",
       "3  000ccc2ac.jpg       4              \n",
       "0  002451917.jpg       1              "
      ]
     },
     "execution_count": 11,
     "metadata": {},
     "output_type": "execute_result"
    }
   ],
   "source": [
    "final_submission_df=pd.concat([df,tt])\n",
    "print(final_submission_df.shape)\n",
    "final_submission_df.head()"
   ]
  },
  {
   "cell_type": "code",
   "execution_count": 12,
   "id": "5689b443",
   "metadata": {},
   "outputs": [
    {
     "data": {
      "text/html": [
       "<div>\n",
       "<style scoped>\n",
       "    .dataframe tbody tr th:only-of-type {\n",
       "        vertical-align: middle;\n",
       "    }\n",
       "\n",
       "    .dataframe tbody tr th {\n",
       "        vertical-align: top;\n",
       "    }\n",
       "\n",
       "    .dataframe thead th {\n",
       "        text-align: right;\n",
       "    }\n",
       "</style>\n",
       "<table border=\"1\" class=\"dataframe\">\n",
       "  <thead>\n",
       "    <tr style=\"text-align: right;\">\n",
       "      <th></th>\n",
       "      <th>ImageId</th>\n",
       "      <th>ClassId</th>\n",
       "      <th>EncodedPixels</th>\n",
       "      <th>EndcodedPixels</th>\n",
       "      <th>ImageId_ClassId</th>\n",
       "    </tr>\n",
       "  </thead>\n",
       "  <tbody>\n",
       "    <tr>\n",
       "      <th>0</th>\n",
       "      <td>000ccc2ac.jpg</td>\n",
       "      <td>1</td>\n",
       "      <td></td>\n",
       "      <td>NaN</td>\n",
       "      <td>000ccc2ac.jpg_1</td>\n",
       "    </tr>\n",
       "    <tr>\n",
       "      <th>1</th>\n",
       "      <td>000ccc2ac.jpg</td>\n",
       "      <td>2</td>\n",
       "      <td></td>\n",
       "      <td>NaN</td>\n",
       "      <td>000ccc2ac.jpg_2</td>\n",
       "    </tr>\n",
       "    <tr>\n",
       "      <th>2</th>\n",
       "      <td>000ccc2ac.jpg</td>\n",
       "      <td>3</td>\n",
       "      <td></td>\n",
       "      <td>NaN</td>\n",
       "      <td>000ccc2ac.jpg_3</td>\n",
       "    </tr>\n",
       "    <tr>\n",
       "      <th>3</th>\n",
       "      <td>000ccc2ac.jpg</td>\n",
       "      <td>4</td>\n",
       "      <td></td>\n",
       "      <td>NaN</td>\n",
       "      <td>000ccc2ac.jpg_4</td>\n",
       "    </tr>\n",
       "    <tr>\n",
       "      <th>0</th>\n",
       "      <td>002451917.jpg</td>\n",
       "      <td>1</td>\n",
       "      <td></td>\n",
       "      <td>NaN</td>\n",
       "      <td>002451917.jpg_1</td>\n",
       "    </tr>\n",
       "  </tbody>\n",
       "</table>\n",
       "</div>"
      ],
      "text/plain": [
       "         ImageId ClassId EncodedPixels EndcodedPixels  ImageId_ClassId\n",
       "0  000ccc2ac.jpg       1                          NaN  000ccc2ac.jpg_1\n",
       "1  000ccc2ac.jpg       2                          NaN  000ccc2ac.jpg_2\n",
       "2  000ccc2ac.jpg       3                          NaN  000ccc2ac.jpg_3\n",
       "3  000ccc2ac.jpg       4                          NaN  000ccc2ac.jpg_4\n",
       "0  002451917.jpg       1                          NaN  002451917.jpg_1"
      ]
     },
     "execution_count": 12,
     "metadata": {},
     "output_type": "execute_result"
    }
   ],
   "source": [
    "final_submission_df['EndcodedPixels']=final_submission_df['EncodedPixels'].apply(\n",
    "    lambda x: np.nan if x=='' else x)\n",
    "\n",
    "final_submission_df['ClassId']=final_submission_df['ClassId'].astype(str)\n",
    "final_submission_df['ImageId_ClassId']=final_submission_df['ImageId']+'_'+final_submission_df['ClassId']\n",
    "\n",
    "final_submission_df.head()\n"
   ]
  },
  {
   "cell_type": "code",
   "execution_count": 13,
   "id": "dc283349",
   "metadata": {},
   "outputs": [],
   "source": [
    "final_submission_df[['ImageId_ClassId','EncodedPixels']].to_csv(\n",
    "    'csvfiles/DesNet_submission.csv',index=False)\n"
   ]
  },
  {
   "cell_type": "code",
   "execution_count": null,
   "id": "329df459",
   "metadata": {},
   "outputs": [],
   "source": []
  }
 ],
 "metadata": {
  "kernelspec": {
   "display_name": "Python 3",
   "language": "python",
   "name": "python3"
  },
  "language_info": {
   "codemirror_mode": {
    "name": "ipython",
    "version": 3
   },
   "file_extension": ".py",
   "mimetype": "text/x-python",
   "name": "python",
   "nbconvert_exporter": "python",
   "pygments_lexer": "ipython3",
   "version": "3.8.8"
  }
 },
 "nbformat": 4,
 "nbformat_minor": 5
}

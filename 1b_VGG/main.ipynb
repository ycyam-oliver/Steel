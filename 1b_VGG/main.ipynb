{
 "cells": [
  {
   "cell_type": "code",
   "execution_count": 14,
   "id": "eb130595",
   "metadata": {},
   "outputs": [],
   "source": [
    "import numpy as np\n",
    "import matplotlib.pyplot as plt\n",
    "import pandas as pd\n",
    "\n",
    "from model import Net\n",
    "from tensorflow.keras.callbacks import Callback, EarlyStopping, ModelCheckpoint, ReduceLROnPlateau\n",
    "from sklearn.metrics import confusion_matrix, classification_report,roc_curve, auc, roc_auc_score\n",
    "\n",
    "import os\n",
    "import time\n",
    "\n",
    "import sys\n",
    "sys.path.append('..')\n",
    "from data import train_gen, val_gen, test_gen, df_train, df_val, df_test, test_df, submit_test_gen"
   ]
  },
  {
   "cell_type": "code",
   "execution_count": 2,
   "id": "745b002a",
   "metadata": {
    "scrolled": true
   },
   "outputs": [
    {
     "name": "stdout",
     "output_type": "stream",
     "text": [
      "Model: \"model\"\n",
      "_________________________________________________________________\n",
      "Layer (type)                 Output Shape              Param #   \n",
      "=================================================================\n",
      "input_1 (InputLayer)         [(None, 224, 224, 3)]     0         \n",
      "_________________________________________________________________\n",
      "block1_conv1 (Conv2D)        (None, 224, 224, 64)      1792      \n",
      "_________________________________________________________________\n",
      "block1_conv2 (Conv2D)        (None, 224, 224, 64)      36928     \n",
      "_________________________________________________________________\n",
      "block1_pool (MaxPooling2D)   (None, 112, 112, 64)      0         \n",
      "_________________________________________________________________\n",
      "block2_conv1 (Conv2D)        (None, 112, 112, 128)     73856     \n",
      "_________________________________________________________________\n",
      "block2_conv2 (Conv2D)        (None, 112, 112, 128)     147584    \n",
      "_________________________________________________________________\n",
      "block2_pool (MaxPooling2D)   (None, 56, 56, 128)       0         \n",
      "_________________________________________________________________\n",
      "block3_conv1 (Conv2D)        (None, 56, 56, 256)       295168    \n",
      "_________________________________________________________________\n",
      "block3_conv2 (Conv2D)        (None, 56, 56, 256)       590080    \n",
      "_________________________________________________________________\n",
      "block3_conv3 (Conv2D)        (None, 56, 56, 256)       590080    \n",
      "_________________________________________________________________\n",
      "block3_pool (MaxPooling2D)   (None, 28, 28, 256)       0         \n",
      "_________________________________________________________________\n",
      "block4_conv1 (Conv2D)        (None, 28, 28, 512)       1180160   \n",
      "_________________________________________________________________\n",
      "block4_conv2 (Conv2D)        (None, 28, 28, 512)       2359808   \n",
      "_________________________________________________________________\n",
      "block4_conv3 (Conv2D)        (None, 28, 28, 512)       2359808   \n",
      "_________________________________________________________________\n",
      "block4_pool (MaxPooling2D)   (None, 14, 14, 512)       0         \n",
      "_________________________________________________________________\n",
      "block5_conv1 (Conv2D)        (None, 14, 14, 512)       2359808   \n",
      "_________________________________________________________________\n",
      "block5_conv2 (Conv2D)        (None, 14, 14, 512)       2359808   \n",
      "_________________________________________________________________\n",
      "block5_conv3 (Conv2D)        (None, 14, 14, 512)       2359808   \n",
      "_________________________________________________________________\n",
      "block5_pool (MaxPooling2D)   (None, 7, 7, 512)         0         \n",
      "_________________________________________________________________\n",
      "flatten (Flatten)            (None, 25088)             0         \n",
      "_________________________________________________________________\n",
      "dense (Dense)                (None, 256)               6422784   \n",
      "_________________________________________________________________\n",
      "dense_1 (Dense)              (None, 1)                 257       \n",
      "=================================================================\n",
      "Total params: 21,137,729\n",
      "Trainable params: 6,423,041\n",
      "Non-trainable params: 14,714,688\n",
      "_________________________________________________________________\n"
     ]
    }
   ],
   "source": [
    "# load the model structure\n",
    "model=Net()\n",
    "\n",
    "# take a look what the model like\n",
    "model.summary()"
   ]
  },
  {
   "cell_type": "markdown",
   "id": "1dfe2e78",
   "metadata": {},
   "source": [
    "# Training"
   ]
  },
  {
   "cell_type": "code",
   "execution_count": 3,
   "id": "7df0502a",
   "metadata": {},
   "outputs": [],
   "source": [
    "today=time.strftime('%Y%m%d')\n",
    "if not os.path.exists(today):\n",
    "    os.mkdir(today)"
   ]
  },
  {
   "cell_type": "code",
   "execution_count": 4,
   "id": "35a714d9",
   "metadata": {},
   "outputs": [],
   "source": [
    "epochs=500\n",
    "\n",
    "BATCH_SIZE=32\n",
    "\n",
    "compute_steps_per_epoch=lambda x: int(np.ceil(1.*x/BATCH_SIZE))\n",
    "\n",
    "steps_per_epoch=compute_steps_per_epoch(df_train.shape[0]) # number of steps in training / epoch\n",
    "validation_steps=compute_steps_per_epoch(df_val.shape[0]) # number of steps in validation / epoch\n",
    "\n",
    "es=EarlyStopping(monitor='val_loss',mode='min',verbose=2,patience=10)\n",
    "reduce_lr=ReduceLROnPlateau(monitor='val_loss',patience=5,verbose=1,min_lr=1e-6)\n",
    "\n",
    "prefix=today+'/'\n",
    "mc=ModelCheckpoint(prefix+'best_model.h5',monitor='val_accuracy',\n",
    "                   verbose=1,save_best_only=True,\n",
    "                   save_weights_only=False,\n",
    "                   model='auto'\n",
    "                  )"
   ]
  },
  {
   "cell_type": "code",
   "execution_count": 5,
   "id": "b690fc77",
   "metadata": {},
   "outputs": [
    {
     "name": "stdout",
     "output_type": "stream",
     "text": [
      "Epoch 1/500\n",
      "236/236 [==============================] - 73s 278ms/step - loss: 0.6367 - accuracy: 0.7054 - val_loss: 0.4242 - val_accuracy: 0.8055\n",
      "\n",
      "Epoch 00001: val_accuracy improved from -inf to 0.80549, saving model to 20210820\\best_model.h5\n",
      "Epoch 2/500\n",
      "236/236 [==============================] - 59s 249ms/step - loss: 0.4787 - accuracy: 0.7599 - val_loss: 0.4260 - val_accuracy: 0.8015\n",
      "\n",
      "Epoch 00002: val_accuracy did not improve from 0.80549\n",
      "Epoch 3/500\n",
      "236/236 [==============================] - 59s 249ms/step - loss: 0.4620 - accuracy: 0.7751 - val_loss: 0.5274 - val_accuracy: 0.7375\n",
      "\n",
      "Epoch 00003: val_accuracy did not improve from 0.80549\n",
      "Epoch 4/500\n",
      "236/236 [==============================] - 59s 249ms/step - loss: 0.4210 - accuracy: 0.7942 - val_loss: 0.4302 - val_accuracy: 0.7928\n",
      "\n",
      "Epoch 00004: val_accuracy did not improve from 0.80549\n",
      "Epoch 5/500\n",
      "236/236 [==============================] - 59s 249ms/step - loss: 0.4116 - accuracy: 0.7997 - val_loss: 0.4141 - val_accuracy: 0.7936\n",
      "\n",
      "Epoch 00005: val_accuracy did not improve from 0.80549\n",
      "Epoch 6/500\n",
      "236/236 [==============================] - 59s 249ms/step - loss: 0.4031 - accuracy: 0.8074 - val_loss: 0.3836 - val_accuracy: 0.8230\n",
      "\n",
      "Epoch 00006: val_accuracy improved from 0.80549 to 0.82299, saving model to 20210820\\best_model.h5\n",
      "Epoch 7/500\n",
      "236/236 [==============================] - 59s 249ms/step - loss: 0.4103 - accuracy: 0.8041 - val_loss: 0.3953 - val_accuracy: 0.8123\n",
      "\n",
      "Epoch 00007: val_accuracy did not improve from 0.82299\n",
      "Epoch 8/500\n",
      "236/236 [==============================] - 59s 249ms/step - loss: 0.3864 - accuracy: 0.8156 - val_loss: 0.4265 - val_accuracy: 0.7991\n",
      "\n",
      "Epoch 00008: val_accuracy did not improve from 0.82299\n",
      "Epoch 9/500\n",
      "236/236 [==============================] - 59s 249ms/step - loss: 0.4035 - accuracy: 0.8066 - val_loss: 0.3947 - val_accuracy: 0.8210\n",
      "\n",
      "Epoch 00009: val_accuracy did not improve from 0.82299\n",
      "Epoch 10/500\n",
      "236/236 [==============================] - 59s 249ms/step - loss: 0.3676 - accuracy: 0.8294 - val_loss: 0.3713 - val_accuracy: 0.8329\n",
      "\n",
      "Epoch 00010: val_accuracy improved from 0.82299 to 0.83294, saving model to 20210820\\best_model.h5\n",
      "Epoch 11/500\n",
      "236/236 [==============================] - 59s 249ms/step - loss: 0.4053 - accuracy: 0.8036 - val_loss: 0.3776 - val_accuracy: 0.8333\n",
      "\n",
      "Epoch 00011: val_accuracy improved from 0.83294 to 0.83333, saving model to 20210820\\best_model.h5\n",
      "Epoch 12/500\n",
      "236/236 [==============================] - 59s 249ms/step - loss: 0.3439 - accuracy: 0.8387 - val_loss: 0.3616 - val_accuracy: 0.8361\n",
      "\n",
      "Epoch 00012: val_accuracy improved from 0.83333 to 0.83612, saving model to 20210820\\best_model.h5\n",
      "Epoch 13/500\n",
      "236/236 [==============================] - 59s 249ms/step - loss: 0.3614 - accuracy: 0.8280 - val_loss: 0.3494 - val_accuracy: 0.8453\n",
      "\n",
      "Epoch 00013: val_accuracy improved from 0.83612 to 0.84527, saving model to 20210820\\best_model.h5\n",
      "Epoch 14/500\n",
      "236/236 [==============================] - 59s 249ms/step - loss: 0.3420 - accuracy: 0.8405 - val_loss: 0.3540 - val_accuracy: 0.8385\n",
      "\n",
      "Epoch 00014: val_accuracy did not improve from 0.84527\n",
      "Epoch 15/500\n",
      "236/236 [==============================] - 59s 249ms/step - loss: 0.3489 - accuracy: 0.8440 - val_loss: 0.3404 - val_accuracy: 0.8516\n",
      "\n",
      "Epoch 00015: val_accuracy improved from 0.84527 to 0.85163, saving model to 20210820\\best_model.h5\n",
      "Epoch 16/500\n",
      "236/236 [==============================] - 59s 248ms/step - loss: 0.3432 - accuracy: 0.8422 - val_loss: 0.3790 - val_accuracy: 0.8305\n",
      "\n",
      "Epoch 00016: val_accuracy did not improve from 0.85163\n",
      "Epoch 17/500\n",
      "236/236 [==============================] - 59s 249ms/step - loss: 0.3472 - accuracy: 0.8371 - val_loss: 0.3451 - val_accuracy: 0.8516\n",
      "\n",
      "Epoch 00017: val_accuracy did not improve from 0.85163\n",
      "Epoch 18/500\n",
      "236/236 [==============================] - 59s 249ms/step - loss: 0.3596 - accuracy: 0.8248 - val_loss: 0.3433 - val_accuracy: 0.8484\n",
      "\n",
      "Epoch 00018: val_accuracy did not improve from 0.85163\n",
      "Epoch 19/500\n",
      "236/236 [==============================] - 59s 249ms/step - loss: 0.3263 - accuracy: 0.8487 - val_loss: 0.3540 - val_accuracy: 0.8445\n",
      "\n",
      "Epoch 00019: val_accuracy did not improve from 0.85163\n",
      "Epoch 20/500\n",
      "236/236 [==============================] - 59s 249ms/step - loss: 0.3363 - accuracy: 0.8446 - val_loss: 0.3688 - val_accuracy: 0.8333\n",
      "\n",
      "Epoch 00020: val_accuracy did not improve from 0.85163\n",
      "\n",
      "Epoch 00020: ReduceLROnPlateau reducing learning rate to 0.00010000000474974513.\n",
      "Epoch 21/500\n",
      "236/236 [==============================] - 59s 249ms/step - loss: 0.3030 - accuracy: 0.8630 - val_loss: 0.3322 - val_accuracy: 0.8568\n",
      "\n",
      "Epoch 00021: val_accuracy improved from 0.85163 to 0.85680, saving model to 20210820\\best_model.h5\n",
      "Epoch 22/500\n",
      "236/236 [==============================] - 59s 248ms/step - loss: 0.2913 - accuracy: 0.8683 - val_loss: 0.3328 - val_accuracy: 0.8544\n",
      "\n",
      "Epoch 00022: val_accuracy did not improve from 0.85680\n",
      "Epoch 23/500\n",
      "236/236 [==============================] - 59s 249ms/step - loss: 0.2933 - accuracy: 0.8645 - val_loss: 0.3303 - val_accuracy: 0.8552\n",
      "\n",
      "Epoch 00023: val_accuracy did not improve from 0.85680\n",
      "Epoch 24/500\n",
      "236/236 [==============================] - 59s 249ms/step - loss: 0.2866 - accuracy: 0.8715 - val_loss: 0.3384 - val_accuracy: 0.8536\n",
      "\n",
      "Epoch 00024: val_accuracy did not improve from 0.85680\n",
      "Epoch 25/500\n",
      "236/236 [==============================] - 59s 249ms/step - loss: 0.2900 - accuracy: 0.8675 - val_loss: 0.3343 - val_accuracy: 0.8576\n",
      "\n",
      "Epoch 00025: val_accuracy improved from 0.85680 to 0.85760, saving model to 20210820\\best_model.h5\n",
      "Epoch 26/500\n",
      "236/236 [==============================] - 59s 249ms/step - loss: 0.2856 - accuracy: 0.8728 - val_loss: 0.3412 - val_accuracy: 0.8544\n",
      "\n",
      "Epoch 00026: val_accuracy did not improve from 0.85760\n",
      "Epoch 27/500\n",
      "236/236 [==============================] - 59s 249ms/step - loss: 0.2806 - accuracy: 0.8760 - val_loss: 0.3310 - val_accuracy: 0.8596\n",
      "\n",
      "Epoch 00027: val_accuracy improved from 0.85760 to 0.85959, saving model to 20210820\\best_model.h5\n",
      "Epoch 28/500\n",
      "236/236 [==============================] - 59s 249ms/step - loss: 0.2809 - accuracy: 0.8749 - val_loss: 0.3293 - val_accuracy: 0.8572\n",
      "\n",
      "Epoch 00028: val_accuracy did not improve from 0.85959\n",
      "Epoch 29/500\n",
      "236/236 [==============================] - 59s 249ms/step - loss: 0.2798 - accuracy: 0.8732 - val_loss: 0.3207 - val_accuracy: 0.8628\n",
      "\n",
      "Epoch 00029: val_accuracy improved from 0.85959 to 0.86277, saving model to 20210820\\best_model.h5\n",
      "Epoch 30/500\n",
      "236/236 [==============================] - 59s 249ms/step - loss: 0.2852 - accuracy: 0.8743 - val_loss: 0.3245 - val_accuracy: 0.8548\n",
      "\n",
      "Epoch 00030: val_accuracy did not improve from 0.86277\n",
      "Epoch 31/500\n",
      "236/236 [==============================] - 59s 249ms/step - loss: 0.2758 - accuracy: 0.8788 - val_loss: 0.3477 - val_accuracy: 0.8469\n",
      "\n",
      "Epoch 00031: val_accuracy did not improve from 0.86277\n",
      "Epoch 32/500\n",
      "236/236 [==============================] - 59s 249ms/step - loss: 0.2830 - accuracy: 0.8744 - val_loss: 0.3201 - val_accuracy: 0.8612\n",
      "\n",
      "Epoch 00032: val_accuracy did not improve from 0.86277\n",
      "Epoch 33/500\n",
      "236/236 [==============================] - 59s 249ms/step - loss: 0.2746 - accuracy: 0.8798 - val_loss: 0.3225 - val_accuracy: 0.8596\n",
      "\n",
      "Epoch 00033: val_accuracy did not improve from 0.86277\n",
      "Epoch 34/500\n",
      "236/236 [==============================] - 59s 249ms/step - loss: 0.2760 - accuracy: 0.8748 - val_loss: 0.3331 - val_accuracy: 0.8576\n",
      "\n",
      "Epoch 00034: val_accuracy did not improve from 0.86277\n",
      "Epoch 35/500\n",
      "236/236 [==============================] - 59s 249ms/step - loss: 0.2777 - accuracy: 0.8797 - val_loss: 0.3161 - val_accuracy: 0.8652\n",
      "\n",
      "Epoch 00035: val_accuracy improved from 0.86277 to 0.86516, saving model to 20210820\\best_model.h5\n",
      "Epoch 36/500\n",
      "236/236 [==============================] - 59s 249ms/step - loss: 0.2773 - accuracy: 0.8779 - val_loss: 0.3251 - val_accuracy: 0.8616\n",
      "\n",
      "Epoch 00036: val_accuracy did not improve from 0.86516\n",
      "Epoch 37/500\n",
      "236/236 [==============================] - 59s 249ms/step - loss: 0.2739 - accuracy: 0.8790 - val_loss: 0.3368 - val_accuracy: 0.8556\n",
      "\n",
      "Epoch 00037: val_accuracy did not improve from 0.86516\n",
      "Epoch 38/500\n"
     ]
    },
    {
     "name": "stdout",
     "output_type": "stream",
     "text": [
      "236/236 [==============================] - 59s 249ms/step - loss: 0.2719 - accuracy: 0.8805 - val_loss: 0.3300 - val_accuracy: 0.8580\n",
      "\n",
      "Epoch 00038: val_accuracy did not improve from 0.86516\n",
      "Epoch 39/500\n",
      "236/236 [==============================] - 59s 249ms/step - loss: 0.2721 - accuracy: 0.8794 - val_loss: 0.3259 - val_accuracy: 0.8580\n",
      "\n",
      "Epoch 00039: val_accuracy did not improve from 0.86516\n",
      "Epoch 40/500\n",
      "236/236 [==============================] - 59s 249ms/step - loss: 0.2706 - accuracy: 0.8776 - val_loss: 0.3348 - val_accuracy: 0.8572\n",
      "\n",
      "Epoch 00040: val_accuracy did not improve from 0.86516\n",
      "\n",
      "Epoch 00040: ReduceLROnPlateau reducing learning rate to 1.0000000474974514e-05.\n",
      "Epoch 41/500\n",
      "236/236 [==============================] - 59s 249ms/step - loss: 0.2642 - accuracy: 0.8840 - val_loss: 0.3262 - val_accuracy: 0.8628\n",
      "\n",
      "Epoch 00041: val_accuracy did not improve from 0.86516\n",
      "Epoch 42/500\n",
      "236/236 [==============================] - 59s 249ms/step - loss: 0.2641 - accuracy: 0.8846 - val_loss: 0.3223 - val_accuracy: 0.8636\n",
      "\n",
      "Epoch 00042: val_accuracy did not improve from 0.86516\n",
      "Epoch 43/500\n",
      "236/236 [==============================] - 59s 248ms/step - loss: 0.2665 - accuracy: 0.8841 - val_loss: 0.3328 - val_accuracy: 0.8568\n",
      "\n",
      "Epoch 00043: val_accuracy did not improve from 0.86516\n",
      "Epoch 44/500\n",
      "236/236 [==============================] - 59s 249ms/step - loss: 0.2669 - accuracy: 0.8834 - val_loss: 0.3256 - val_accuracy: 0.8608\n",
      "\n",
      "Epoch 00044: val_accuracy did not improve from 0.86516\n",
      "Epoch 45/500\n",
      "236/236 [==============================] - 59s 249ms/step - loss: 0.2628 - accuracy: 0.8875 - val_loss: 0.3261 - val_accuracy: 0.8592\n",
      "\n",
      "Epoch 00045: val_accuracy did not improve from 0.86516\n",
      "\n",
      "Epoch 00045: ReduceLROnPlateau reducing learning rate to 1.0000000656873453e-06.\n",
      "Epoch 00045: early stopping\n"
     ]
    }
   ],
   "source": [
    "history=model.fit(train_gen,\n",
    "                  steps_per_epoch=steps_per_epoch,\n",
    "                  validation_data=val_gen,\n",
    "                  validation_steps=validation_steps,\n",
    "                  epochs=epochs,\n",
    "                  callbacks=[es,mc,reduce_lr]\n",
    "                 )"
   ]
  },
  {
   "cell_type": "code",
   "execution_count": 8,
   "id": "59595572",
   "metadata": {},
   "outputs": [
    {
     "data": {
      "image/png": "[encoded data removed]",
      "text/plain": [
       "<Figure size 1008x1152 with 2 Axes>"
      ]
     },
     "metadata": {
      "needs_background": "light"
     },
     "output_type": "display_data"
    }
   ],
   "source": [
    "def history_plot(model_id,history):\n",
    "    plt.figure(figsize=[14,16])\n",
    "    \n",
    "    # plot loss\n",
    "    plt.subplot(2,1,1)\n",
    "    \n",
    "    plt.plot(history.history['loss'],label='train')\n",
    "    plt.plot(history.history['val_loss'],label='val')\n",
    "    \n",
    "    plt.legend()\n",
    "    \n",
    "    plt.title('CrossEntropy Loss - '+model_id)\n",
    "    plt.xlabel('Epochs')\n",
    "    plt.ylabel('Loss')\n",
    "    \n",
    "    # plot accuracy\n",
    "    plt.subplot(2,1,2)\n",
    "    \n",
    "    plt.plot(history.history['accuracy'],label='train')\n",
    "    plt.plot(history.history['val_accuracy'],label='val')\n",
    "    \n",
    "    plt.legend()\n",
    "    \n",
    "    plt.title('Classification Accuracy - '+model_id)\n",
    "    plt.xlabel('Epochs')\n",
    "    plt.ylabel('Loss')\n",
    "    \n",
    "    plt.show()\n",
    "    \n",
    "history.history.keys()\n",
    "\n",
    "history_plot('CNN Model',history)"
   ]
  },
  {
   "cell_type": "markdown",
   "id": "96dd21f7",
   "metadata": {},
   "source": [
    "# Make Predictions on the set with known labels for evaluations"
   ]
  },
  {
   "cell_type": "code",
   "execution_count": 9,
   "id": "e1fbf5ab",
   "metadata": {},
   "outputs": [
    {
     "name": "stdout",
     "output_type": "stream",
     "text": [
      "79/79 [==============================] - 6s 69ms/step\n"
     ]
    }
   ],
   "source": [
    "# Save results as CSV files\n",
    "\n",
    "model.load_weights(prefix+'best_model.h5')\n",
    "\n",
    "category_names=['No Defect','Defect']\n",
    "\n",
    "y_test=df_test['defect_label']\n",
    "\n",
    "STEP_SIZE_TEST=compute_steps_per_epoch(y_test.shape[0])\n",
    "\n",
    "\n",
    "predictions=model.predict(test_gen,steps=STEP_SIZE_TEST,verbose=1)\n",
    "\n",
    "y_pred=(predictions>0.5).astype('int32')"
   ]
  },
  {
   "cell_type": "code",
   "execution_count": 10,
   "id": "b09519c8",
   "metadata": {},
   "outputs": [
    {
     "name": "stdout",
     "output_type": "stream",
     "text": [
      "              precision    recall  f1-score   support\n",
      "\n",
      "   No Defect       0.87      0.85      0.86      1181\n",
      "      Defect       0.87      0.88      0.88      1333\n",
      "\n",
      "    accuracy                           0.87      2514\n",
      "   macro avg       0.87      0.87      0.87      2514\n",
      "weighted avg       0.87      0.87      0.87      2514\n",
      "\n"
     ]
    }
   ],
   "source": [
    "# Evalutions\n",
    "# ------------\n",
    "\n",
    "# (I) classification report\n",
    "\n",
    "report_string=classification_report(y_test,y_pred,target_names=category_names)\n",
    "print(report_string)"
   ]
  },
  {
   "cell_type": "code",
   "execution_count": 11,
   "id": "3f8b9a7d",
   "metadata": {},
   "outputs": [
    {
     "name": "stdout",
     "output_type": "stream",
     "text": [
      "ROC AUC=0.940\n"
     ]
    },
    {
     "data": {
      "image/png": "[encoded data removed]",
      "text/plain": [
       "<Figure size 432x288 with 1 Axes>"
      ]
     },
     "metadata": {
      "needs_background": "light"
     },
     "output_type": "display_data"
    }
   ],
   "source": [
    "# (II) AUC\n",
    "\n",
    "# calculate scores\n",
    "auc=roc_auc_score(y_test,predictions)\n",
    "\n",
    "#summarize scores\n",
    "print('ROC AUC=%.3f' % auc)\n",
    "\n",
    "ns_fpr, ns_tpr, _= roc_curve(y_test,predictions)\n",
    "# fpr='false positive rate'\n",
    "# tpr='true positive rate'\n",
    "\n",
    "# plot the roc curve for the model\n",
    "plt.plot(ns_fpr,ns_tpr,label='AUC = '+str(auc))\n",
    "plt.plot([0,1],[0,1])\n",
    "\n",
    "plt.xlabel('False Positive Rate')\n",
    "plt.ylabel('True Positive Rate')\n",
    "\n",
    "plt.legend()\n",
    "plt.show()"
   ]
  },
  {
   "cell_type": "markdown",
   "id": "41958d14",
   "metadata": {},
   "source": [
    "# If satisfied, make prediction on the real test set to determine whether images there contain defects "
   ]
  },
  {
   "cell_type": "code",
   "execution_count": 12,
   "id": "48c687e4",
   "metadata": {},
   "outputs": [],
   "source": [
    "# save the satifised model\n",
    "model.save('VGG2classes.h5',save_format='h5')"
   ]
  },
  {
   "cell_type": "code",
   "execution_count": 15,
   "id": "b752845a",
   "metadata": {},
   "outputs": [
    {
     "name": "stdout",
     "output_type": "stream",
     "text": [
      "173/173 [==============================] - 26s 149ms/step\n"
     ]
    },
    {
     "data": {
      "text/html": [
       "<div>\n",
       "<style scoped>\n",
       "    .dataframe tbody tr th:only-of-type {\n",
       "        vertical-align: middle;\n",
       "    }\n",
       "\n",
       "    .dataframe tbody tr th {\n",
       "        vertical-align: top;\n",
       "    }\n",
       "\n",
       "    .dataframe thead th {\n",
       "        text-align: right;\n",
       "    }\n",
       "</style>\n",
       "<table border=\"1\" class=\"dataframe\">\n",
       "  <thead>\n",
       "    <tr style=\"text-align: right;\">\n",
       "      <th></th>\n",
       "      <th>ImageId</th>\n",
       "      <th>defect_label</th>\n",
       "    </tr>\n",
       "  </thead>\n",
       "  <tbody>\n",
       "    <tr>\n",
       "      <th>0</th>\n",
       "      <td>0000f269f.jpg</td>\n",
       "      <td>1</td>\n",
       "    </tr>\n",
       "    <tr>\n",
       "      <th>1</th>\n",
       "      <td>000ccc2ac.jpg</td>\n",
       "      <td>1</td>\n",
       "    </tr>\n",
       "    <tr>\n",
       "      <th>2</th>\n",
       "      <td>002451917.jpg</td>\n",
       "      <td>1</td>\n",
       "    </tr>\n",
       "    <tr>\n",
       "      <th>3</th>\n",
       "      <td>003c5da97.jpg</td>\n",
       "      <td>0</td>\n",
       "    </tr>\n",
       "    <tr>\n",
       "      <th>4</th>\n",
       "      <td>0042e163f.jpg</td>\n",
       "      <td>1</td>\n",
       "    </tr>\n",
       "  </tbody>\n",
       "</table>\n",
       "</div>"
      ],
      "text/plain": [
       "         ImageId  defect_label\n",
       "0  0000f269f.jpg             1\n",
       "1  000ccc2ac.jpg             1\n",
       "2  002451917.jpg             1\n",
       "3  003c5da97.jpg             0\n",
       "4  0042e163f.jpg             1"
      ]
     },
     "execution_count": 15,
     "metadata": {},
     "output_type": "execute_result"
    }
   ],
   "source": [
    "STEP_SIZE_TEST=compute_steps_per_epoch(test_df.shape[0])\n",
    "\n",
    "# make prediction\n",
    "submit_test=model.predict(submit_test_gen,\n",
    "                          steps=STEP_SIZE_TEST,\n",
    "                          verbose=1\n",
    "                         )\n",
    "\n",
    "test_df['defect_label']=(submit_test>0.5).astype('int32')\n",
    "\n",
    "test_df.head()"
   ]
  },
  {
   "cell_type": "code",
   "execution_count": 16,
   "id": "144f0460",
   "metadata": {},
   "outputs": [
    {
     "data": {
      "text/plain": [
       "1    3674\n",
       "0    1832\n",
       "Name: defect_label, dtype: int64"
      ]
     },
     "execution_count": 16,
     "metadata": {},
     "output_type": "execute_result"
    }
   ],
   "source": [
    "# see the statistics of the test predictions\n",
    "test_df['defect_label'].value_counts()\n"
   ]
  },
  {
   "cell_type": "code",
   "execution_count": 18,
   "id": "768572ea",
   "metadata": {},
   "outputs": [],
   "source": [
    "# save the test results to csv file\n",
    "\n",
    "pd.DataFrame(history.history).to_csv(\n",
    "    'CNN_VGG_history.csv',index=False)\n",
    "\n",
    "# df.to_csv('train_CNN_VGG.csv',index=False)\n",
    "test_df.to_csv('test_CNN_VGG.csv',index=False)\n"
   ]
  },
  {
   "cell_type": "code",
   "execution_count": null,
   "id": "0d5c69a9",
   "metadata": {},
   "outputs": [],
   "source": []
  }
 ],
 "metadata": {
  "kernelspec": {
   "display_name": "Python 3",
   "language": "python",
   "name": "python3"
  },
  "language_info": {
   "codemirror_mode": {
    "name": "ipython",
    "version": 3
   },
   "file_extension": ".py",
   "mimetype": "text/x-python",
   "name": "python",
   "nbconvert_exporter": "python",
   "pygments_lexer": "ipython3",
   "version": "3.8.8"
  }
 },
 "nbformat": 4,
 "nbformat_minor": 5
}
